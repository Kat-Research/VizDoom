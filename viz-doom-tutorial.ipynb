{
 "cells": [
  {
   "cell_type": "markdown",
   "metadata": {},
   "source": [
    "# 1 Getting VizDoom up and running"
   ]
  },
  {
   "cell_type": "code",
   "execution_count": null,
   "metadata": {},
   "outputs": [],
   "source": [
    "%pip install numpy\n",
    "%pip install vizdoom"
   ]
  },
  {
   "cell_type": "code",
   "execution_count": 2,
   "metadata": {},
   "outputs": [
    {
     "data": {
      "text/plain": [
       "<module 'helper' from 'd:\\\\Desktop\\\\WIts\\\\Masters\\\\Year 1\\\\Code\\\\VizDoom\\\\helper.py'>"
      ]
     },
     "execution_count": 2,
     "metadata": {},
     "output_type": "execute_result"
    }
   ],
   "source": [
    "import importlib\n",
    "import helper\n",
    "importlib.reload(helper)"
   ]
  },
  {
   "cell_type": "code",
   "execution_count": 3,
   "metadata": {},
   "outputs": [],
   "source": [
    "import time\n",
    "import random\n",
    "import numpy as np\n",
    "import vizdoom as vd \n",
    "from typing import Any\n",
    "from helper import rgb_to_greyscale, display_grey_scale"
   ]
  },
  {
   "cell_type": "code",
   "execution_count": 28,
   "metadata": {},
   "outputs": [],
   "source": [
    "game = vd.DoomGame()\n",
    "game.load_config('github/ViZDoom/scenarios/basic.cfg')\n",
    "game.init()"
   ]
  },
  {
   "cell_type": "code",
   "execution_count": 15,
   "metadata": {},
   "outputs": [],
   "source": [
    "actions: np.ndarray = np.identity(3, dtype=np.uint8)"
   ]
  },
  {
   "cell_type": "code",
   "execution_count": null,
   "metadata": {},
   "outputs": [],
   "source": [
    "game = vd.DoomGame()\n",
    "game.load_config('github/ViZDoom/scenarios/basic.cfg')\n",
    "game.init()\n",
    "\n",
    "episodes: int = 10\n",
    "for episode in range(episodes):\n",
    "    game.new_episode()\n",
    "\n",
    "    while not game.is_episode_finished():\n",
    "        state = game.get_state()\n",
    "        img = state.screen_buffer\n",
    "        info = state.game_variables\n",
    "        \n",
    "        reward = game.make_action(random.choice(actions), 4)\n",
    "        time.sleep(0.02)\n",
    "\n",
    "    print(\"total reward\", game.get_total_reward())\n",
    "    time.sleep(2)\n",
    "print(\"done with all\")\n",
    "game.close()"
   ]
  },
  {
   "cell_type": "markdown",
   "metadata": {},
   "source": [
    "# 2. Converting it to a gym environment"
   ]
  },
  {
   "cell_type": "code",
   "execution_count": null,
   "metadata": {},
   "outputs": [],
   "source": [
    "%pip install gymnasium\n",
    "%pip install opencv-python"
   ]
  },
  {
   "cell_type": "code",
   "execution_count": 5,
   "metadata": {},
   "outputs": [],
   "source": [
    "from gymnasium import Env\n",
    "from gymnasium.spaces import Box, Discrete\n",
    "import cv2"
   ]
  },
  {
   "cell_type": "code",
   "execution_count": 32,
   "metadata": {},
   "outputs": [],
   "source": [
    "class VizDoomEnv(Env):\n",
    "    def __init__(self, render: bool = False) -> None:\n",
    "        super().__init__()\n",
    "\n",
    "        self.game = vd.DoomGame()\n",
    "        self.game.load_config('github/ViZDoom/scenarios/basic.cfg')\n",
    "        self.game.set_window_visible(render)\n",
    "        self.game.init()\n",
    "\n",
    "        self.observation_space: Box = Box(low=1, high=255, shape=(3, 240, 320), dtype=np.uint8)\n",
    "        self.action_space: Discrete = Discrete(3)\n",
    "        self.actions: np.ndarray = np.identity(n=3, dtype=np.uint8)\n",
    "\n",
    "    def close(self) -> None:\n",
    "        self.game.close()\n",
    "\n",
    "    # Info should come back as a dict, I added the `| int` because this env is stupid. Doesn't return as a dict for some reason\n",
    "    def step(self, action) -> tuple[np.ndarray, float, dict[str, Any] | int, bool]:\n",
    "        reward: float = self.game.make_action(self.actions[action], 4)\n",
    "        observation = self.get_observation()\n",
    "        info = self.get_info()\n",
    "        done = self.game.is_episode_finished()\n",
    "\n",
    "        return observation, reward, info, done\n",
    "    \n",
    "    def reset(self) -> tuple[np.ndarray, dict[str, Any] | int]:\n",
    "        self.game.new_episode()\n",
    "\n",
    "        return self.get_observation(), self.get_info()\n",
    "\n",
    "    def get_observation(self) -> np.ndarray:\n",
    "        return getattr(self.game.get_state(), \"screen_buffer\", np.ones_like(self.observation_space.shape, dtype=self.observation_space.dtype))\n",
    "    \n",
    "    def get_info(self) -> dict[str, Any] | int:\n",
    "        return getattr(self.game.get_state(), \"game_variables\", 0)\n",
    "    \n",
    "    def preprocess_observation(self) -> np.ndarray:\n",
    "        grey_observation: np.ndarray = rgb_to_greyscale(self.get_observation())\n",
    "        return grey_observation[0:207, :]"
   ]
  },
  {
   "cell_type": "code",
   "execution_count": null,
   "metadata": {},
   "outputs": [],
   "source": []
  }
 ],
 "metadata": {
  "kernelspec": {
   "display_name": ".venv",
   "language": "python",
   "name": "python3"
  },
  "language_info": {
   "codemirror_mode": {
    "name": "ipython",
    "version": 3
   },
   "file_extension": ".py",
   "mimetype": "text/x-python",
   "name": "python",
   "nbconvert_exporter": "python",
   "pygments_lexer": "ipython3",
   "version": "3.12.4"
  }
 },
 "nbformat": 4,
 "nbformat_minor": 2
}
